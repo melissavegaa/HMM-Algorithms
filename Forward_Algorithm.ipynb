{
  "nbformat": 4,
  "nbformat_minor": 0,
  "metadata": {
    "colab": {
      "provenance": []
    },
    "kernelspec": {
      "name": "python3",
      "display_name": "Python 3"
    },
    "language_info": {
      "name": "python"
    }
  },
  "cells": [
    {
      "cell_type": "code",
      "source": [
        "import numpy as np"
      ],
      "metadata": {
        "id": "vpSsgW6TzNfw"
      },
      "execution_count": null,
      "outputs": []
    },
    {
      "cell_type": "code",
      "source": [
        "def forwardAlgorithm(obs, a, b, pi):\n",
        "  \"\"\"\n",
        "  :param obs: Observation Vector\n",
        "  :param a: Transition probability matrix\n",
        "  :param b: Output probability matrix\n",
        "  :param pi: Initial state probability vector\n",
        "  :return: The Forward probability\n",
        "  Instructions: Implement algorithm on slide 29 \"The Forward Algorithm\" of\n",
        "  lecture note slides\n",
        "  \"\"\"\n",
        "  # Tell Numpy how to print the array\n",
        "  np.set_printoptions(formatter={'float': '{: 0.4f}'.format})\n",
        "\n",
        "  # Initialization step\n",
        "  print('\\033[1m' + 'Initialization' + '\\033[0m')\n",
        "\n",
        "  # Initialize alpha to zero using numpy zeros function\n",
        "  alpha=np.zeros((obs.shape[0], a.shape[0]))\n",
        "\n",
        "  alpha[0, :]= pi * b[:, obs[0]]\n",
        "  print()\n",
        "  print(alpha)\n",
        "  print()\n",
        "\n",
        "  # The Induction Step\n",
        "  print('\\033[1m' + 'Induction' + '\\033[0m')\n",
        "  for t in range(1, obs.shape[0]):\n",
        "    for j in range(a.shape[0]):\n",
        "      alphaSum= 0.0\n",
        "      for i in range(a.shape[0]):\n",
        "        alphaSum+= alpha[t-1, i] * a[i, j]\n",
        "\n",
        "      alpha[t, j] = alphaSum * b[j, obs[t]]\n",
        "      print(\"alpha(\", t+1, \",\", j+1, \")\")\n",
        "\n",
        "      print(alpha)\n",
        "      print()\n",
        "\n",
        "  # The Termination Step\n",
        "  print('\\033[1m' + 'Termination' + '\\033[0m')\n",
        "  forwardProb=0\n",
        "  forwardProb= np.sum(alpha[obs.shape[0] -1, :])\n",
        "  return forwardProb"
      ],
      "metadata": {
        "id": "gBSXZ6RFyrnw"
      },
      "execution_count": null,
      "outputs": []
    },
    {
      "cell_type": "code",
      "source": [
        "def main():\n",
        "  # Observations\n",
        "  observationVector=np.array((0, 0, 1, 0, 1))\n",
        "  # Transition Probabilities\n",
        "  transitionProbMat=np.array(((0.2, 0.8), (0.6, 0.4)))\n",
        "  # Output Probabilities\n",
        "  outputProbMat=np.array(((0.7, 0.4), (0.3, 0.6)))\n",
        "  # Initial state probability probability vector\n",
        "  InitialStateProbVec=np.array((1.0, 0.0))\n",
        "  # Invoke the Forward algorithm\n",
        "  forwardProb=forwardAlgorithm(observationVector, transitionProbMat,\n",
        "  outputProbMat, InitialStateProbVec)\n",
        "  print(f'P(O|\\u03BB)={forwardProb:1.4f}')\n"
      ],
      "metadata": {
        "id": "CfkwGjtM0pgH"
      },
      "execution_count": null,
      "outputs": []
    },
    {
      "cell_type": "code",
      "source": [
        "if __name__ == \"__main__\":\n",
        "    main()"
      ],
      "metadata": {
        "colab": {
          "base_uri": "https://localhost:8080/"
        },
        "id": "EX14QOOZbmWZ",
        "outputId": "cbead75b-942c-4fc5-df61-265ba73e10d6"
      },
      "execution_count": null,
      "outputs": [
        {
          "output_type": "stream",
          "name": "stdout",
          "text": [
            "\u001b[1mInitialization\u001b[0m\n",
            "\n",
            "[[ 0.7000  0.0000]\n",
            " [ 0.0000  0.0000]\n",
            " [ 0.0000  0.0000]\n",
            " [ 0.0000  0.0000]\n",
            " [ 0.0000  0.0000]]\n",
            "\n",
            "\u001b[1mInduction\u001b[0m\n",
            "alpha( 2 , 1 )\n",
            "[[ 0.7000  0.0000]\n",
            " [ 0.0980  0.0000]\n",
            " [ 0.0000  0.0000]\n",
            " [ 0.0000  0.0000]\n",
            " [ 0.0000  0.0000]]\n",
            "\n",
            "alpha( 2 , 2 )\n",
            "[[ 0.7000  0.0000]\n",
            " [ 0.0980  0.1680]\n",
            " [ 0.0000  0.0000]\n",
            " [ 0.0000  0.0000]\n",
            " [ 0.0000  0.0000]]\n",
            "\n",
            "alpha( 3 , 1 )\n",
            "[[ 0.7000  0.0000]\n",
            " [ 0.0980  0.1680]\n",
            " [ 0.0482  0.0000]\n",
            " [ 0.0000  0.0000]\n",
            " [ 0.0000  0.0000]]\n",
            "\n",
            "alpha( 3 , 2 )\n",
            "[[ 0.7000  0.0000]\n",
            " [ 0.0980  0.1680]\n",
            " [ 0.0482  0.0874]\n",
            " [ 0.0000  0.0000]\n",
            " [ 0.0000  0.0000]]\n",
            "\n",
            "alpha( 4 , 1 )\n",
            "[[ 0.7000  0.0000]\n",
            " [ 0.0980  0.1680]\n",
            " [ 0.0482  0.0874]\n",
            " [ 0.0434  0.0000]\n",
            " [ 0.0000  0.0000]]\n",
            "\n",
            "alpha( 4 , 2 )\n",
            "[[ 0.7000  0.0000]\n",
            " [ 0.0980  0.1680]\n",
            " [ 0.0482  0.0874]\n",
            " [ 0.0434  0.0220]\n",
            " [ 0.0000  0.0000]]\n",
            "\n",
            "alpha( 5 , 1 )\n",
            "[[ 0.7000  0.0000]\n",
            " [ 0.0980  0.1680]\n",
            " [ 0.0482  0.0874]\n",
            " [ 0.0434  0.0220]\n",
            " [ 0.0088  0.0000]]\n",
            "\n",
            "alpha( 5 , 2 )\n",
            "[[ 0.7000  0.0000]\n",
            " [ 0.0980  0.1680]\n",
            " [ 0.0482  0.0874]\n",
            " [ 0.0434  0.0220]\n",
            " [ 0.0088  0.0261]]\n",
            "\n",
            "\u001b[1mTermination\u001b[0m\n",
            "P(O|λ)=0.0349\n"
          ]
        }
      ]
    }
  ]
}